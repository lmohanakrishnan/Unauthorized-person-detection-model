{
  "nbformat": 4,
  "nbformat_minor": 0,
  "metadata": {
    "colab": {
      "name": "Transfer_learning_MNIST_GT5.ipynb",
      "provenance": []
    },
    "kernelspec": {
      "name": "python3",
      "display_name": "Python 3"
    },
    "language_info": {
      "name": "python"
    }
  },
  "cells": [
    {
      "cell_type": "code",
      "metadata": {
        "id": "pCZODwFa9HhH"
      },
      "source": [
        "import os\n",
        "import tensorflow as tf\n",
        "import numpy as np\n",
        "import matplotlib.pyplot as plt\n",
        "#import seaborn as sns\n",
        "#plt.style.use(\"fivethirtyeight\")\n",
        "#%load_ext tensorboard"
      ],
      "execution_count": 1,
      "outputs": []
    },
    {
      "cell_type": "code",
      "metadata": {
        "colab": {
          "base_uri": "https://localhost:8080/"
        },
        "id": "_mENt7q69tjq",
        "outputId": "f331977d-3635-4dc6-8c8c-f5248b45800c"
      },
      "source": [
        "(X_train_full, y_train_full), (X_test, y_test) = tf.keras.datasets.mnist.load_data()\n",
        "X_train_full = X_train_full / 255.0\n",
        "X_test = X_test / 255.0\n",
        "X_valid, X_train = X_train_full[:5000], X_train_full[5000:]\n",
        "y_valid, y_train = y_train_full[:5000], y_train_full[5000:]"
      ],
      "execution_count": 2,
      "outputs": [
        {
          "output_type": "stream",
          "text": [
            "Downloading data from https://storage.googleapis.com/tensorflow/tf-keras-datasets/mnist.npz\n",
            "11493376/11490434 [==============================] - 0s 0us/step\n"
          ],
          "name": "stdout"
        }
      ]
    },
    {
      "cell_type": "code",
      "metadata": {
        "id": "wBfmHuWV9w7h"
      },
      "source": [
        "pretrained_mnist_model = tf.keras.models.load_model(\"/content/drive/MyDrive/pretrained_mnist_model.h5\")"
      ],
      "execution_count": 3,
      "outputs": []
    },
    {
      "cell_type": "code",
      "metadata": {
        "colab": {
          "base_uri": "https://localhost:8080/"
        },
        "id": "bV3fNbyK90xE",
        "outputId": "ed4e6c26-7b22-404e-f3c2-0895bed6f254"
      },
      "source": [
        "pretrained_mnist_model.summary()"
      ],
      "execution_count": 4,
      "outputs": [
        {
          "output_type": "stream",
          "text": [
            "Model: \"sequential\"\n",
            "_________________________________________________________________\n",
            "Layer (type)                 Output Shape              Param #   \n",
            "=================================================================\n",
            "flatten (Flatten)            (None, 784)               0         \n",
            "_________________________________________________________________\n",
            "dense (Dense)                (None, 300)               235500    \n",
            "_________________________________________________________________\n",
            "leaky_re_lu (LeakyReLU)      (None, 300)               0         \n",
            "_________________________________________________________________\n",
            "dense_1 (Dense)              (None, 100)               30100     \n",
            "_________________________________________________________________\n",
            "leaky_re_lu_1 (LeakyReLU)    (None, 100)               0         \n",
            "_________________________________________________________________\n",
            "dense_2 (Dense)              (None, 10)                1010      \n",
            "=================================================================\n",
            "Total params: 266,610\n",
            "Trainable params: 266,610\n",
            "Non-trainable params: 0\n",
            "_________________________________________________________________\n"
          ],
          "name": "stdout"
        }
      ]
    },
    {
      "cell_type": "code",
      "metadata": {
        "colab": {
          "base_uri": "https://localhost:8080/"
        },
        "id": "smv4DD8G94wU",
        "outputId": "128fe120-fb5a-479f-94b2-dcc0aa52f915"
      },
      "source": [
        "for layer in pretrained_mnist_model.layers[:-1]:\n",
        "  layer.trainable=False\n",
        "  print(f\"{layer.name} : {layer.trainable}\")"
      ],
      "execution_count": 9,
      "outputs": [
        {
          "output_type": "stream",
          "text": [
            "flatten : False\n",
            "dense : False\n",
            "leaky_re_lu : False\n",
            "dense_1 : False\n",
            "leaky_re_lu_1 : False\n"
          ],
          "name": "stdout"
        }
      ]
    },
    {
      "cell_type": "code",
      "metadata": {
        "colab": {
          "base_uri": "https://localhost:8080/"
        },
        "id": "PBIgFSIU_Oyu",
        "outputId": "dfb57793-5de1-4313-c01d-05a94988cad8"
      },
      "source": [
        "for layer in pretrained_mnist_model.layers:\n",
        "  print(f\"{layer.name} : {layer.trainable}\")"
      ],
      "execution_count": 10,
      "outputs": [
        {
          "output_type": "stream",
          "text": [
            "flatten : False\n",
            "dense : False\n",
            "leaky_re_lu : False\n",
            "dense_1 : False\n",
            "leaky_re_lu_1 : False\n",
            "dense_2 : True\n"
          ],
          "name": "stdout"
        }
      ]
    },
    {
      "cell_type": "code",
      "metadata": {
        "id": "H3nGFsdQ_SGa"
      },
      "source": [
        "model_new=tf.keras.models.Sequential(pretrained_mnist_model.layers[:-1])\n",
        "model_new.add(tf.keras.layers.Dense(2,activation='softmax'))"
      ],
      "execution_count": 13,
      "outputs": []
    },
    {
      "cell_type": "code",
      "metadata": {
        "colab": {
          "base_uri": "https://localhost:8080/"
        },
        "id": "jshND9LkFKnL",
        "outputId": "8c25fb00-1168-4a74-8245-1bc62811d987"
      },
      "source": [
        "model_new.summary()"
      ],
      "execution_count": 15,
      "outputs": [
        {
          "output_type": "stream",
          "text": [
            "Model: \"sequential_2\"\n",
            "_________________________________________________________________\n",
            "Layer (type)                 Output Shape              Param #   \n",
            "=================================================================\n",
            "flatten (Flatten)            (None, 784)               0         \n",
            "_________________________________________________________________\n",
            "dense (Dense)                (None, 300)               235500    \n",
            "_________________________________________________________________\n",
            "leaky_re_lu (LeakyReLU)      (None, 300)               0         \n",
            "_________________________________________________________________\n",
            "dense_1 (Dense)              (None, 100)               30100     \n",
            "_________________________________________________________________\n",
            "leaky_re_lu_1 (LeakyReLU)    (None, 100)               0         \n",
            "_________________________________________________________________\n",
            "dense_2 (Dense)              (None, 2)                 202       \n",
            "=================================================================\n",
            "Total params: 265,802\n",
            "Trainable params: 202\n",
            "Non-trainable params: 265,600\n",
            "_________________________________________________________________\n"
          ],
          "name": "stdout"
        }
      ]
    },
    {
      "cell_type": "code",
      "metadata": {
        "id": "9KK8K6XkFZtD"
      },
      "source": [
        "def update_even_odd_labels(labels):\n",
        "  for idx, label in enumerate(labels):\n",
        "    labels[idx] = np.where(label >5, 1, 0)\n",
        "  return labels"
      ],
      "execution_count": 16,
      "outputs": []
    },
    {
      "cell_type": "code",
      "metadata": {
        "id": "4YFXPFgJFkYM"
      },
      "source": [
        "y_train_bin, y_test_bin, y_valid_bin = update_even_odd_labels([y_train, y_test, y_valid])"
      ],
      "execution_count": 17,
      "outputs": []
    },
    {
      "cell_type": "code",
      "metadata": {
        "colab": {
          "base_uri": "https://localhost:8080/"
        },
        "id": "9oLHjPoVFnHu",
        "outputId": "0d4571d6-a12e-4797-c0d0-e6ffe4271ab7"
      },
      "source": [
        "model_new.compile(loss=\"sparse_categorical_crossentropy\",\n",
        "              optimizer=tf.keras.optimizers.SGD(lr=1e-3),\n",
        "              metrics=[\"accuracy\"])"
      ],
      "execution_count": 19,
      "outputs": [
        {
          "output_type": "stream",
          "text": [
            "/usr/local/lib/python3.7/dist-packages/tensorflow/python/keras/optimizer_v2/optimizer_v2.py:375: UserWarning: The `lr` argument is deprecated, use `learning_rate` instead.\n",
            "  \"The `lr` argument is deprecated, use `learning_rate` instead.\")\n"
          ],
          "name": "stderr"
        }
      ]
    },
    {
      "cell_type": "code",
      "metadata": {
        "colab": {
          "base_uri": "https://localhost:8080/"
        },
        "id": "j-pk48DaFowa",
        "outputId": "c6fabab3-feee-472f-a5c2-4a48b3aa2f3e"
      },
      "source": [
        "history = model_new.fit(X_train, y_train_bin, epochs=10,\n",
        "                    validation_data=(X_valid, y_valid_bin), verbose=2)"
      ],
      "execution_count": 20,
      "outputs": [
        {
          "output_type": "stream",
          "text": [
            "Epoch 1/10\n",
            "1719/1719 - 3s - loss: 0.5487 - accuracy: 0.7228 - val_loss: 0.4617 - val_accuracy: 0.7882\n",
            "Epoch 2/10\n",
            "1719/1719 - 2s - loss: 0.4275 - accuracy: 0.8137 - val_loss: 0.4035 - val_accuracy: 0.8246\n",
            "Epoch 3/10\n",
            "1719/1719 - 2s - loss: 0.3914 - accuracy: 0.8363 - val_loss: 0.3753 - val_accuracy: 0.8416\n",
            "Epoch 4/10\n",
            "1719/1719 - 2s - loss: 0.3720 - accuracy: 0.8470 - val_loss: 0.3576 - val_accuracy: 0.8530\n",
            "Epoch 5/10\n",
            "1719/1719 - 3s - loss: 0.3595 - accuracy: 0.8527 - val_loss: 0.3460 - val_accuracy: 0.8592\n",
            "Epoch 6/10\n",
            "1719/1719 - 2s - loss: 0.3505 - accuracy: 0.8567 - val_loss: 0.3374 - val_accuracy: 0.8646\n",
            "Epoch 7/10\n",
            "1719/1719 - 2s - loss: 0.3436 - accuracy: 0.8609 - val_loss: 0.3305 - val_accuracy: 0.8666\n",
            "Epoch 8/10\n",
            "1719/1719 - 2s - loss: 0.3379 - accuracy: 0.8633 - val_loss: 0.3244 - val_accuracy: 0.8702\n",
            "Epoch 9/10\n",
            "1719/1719 - 3s - loss: 0.3332 - accuracy: 0.8654 - val_loss: 0.3196 - val_accuracy: 0.8714\n",
            "Epoch 10/10\n",
            "1719/1719 - 2s - loss: 0.3292 - accuracy: 0.8670 - val_loss: 0.3163 - val_accuracy: 0.8740\n"
          ],
          "name": "stdout"
        }
      ]
    },
    {
      "cell_type": "code",
      "metadata": {
        "id": "hORTD1KTFy1v"
      },
      "source": [
        "model_new.save(\"/content/drive/MyDrive/mnist_model_gt5.h5\")"
      ],
      "execution_count": 21,
      "outputs": []
    },
    {
      "cell_type": "code",
      "metadata": {
        "colab": {
          "base_uri": "https://localhost:8080/"
        },
        "id": "h_fC8KAuGOut",
        "outputId": "22dc284f-8e83-46e6-e350-23c1f062a454"
      },
      "source": [
        "model_new.evaluate(X_test, y_test_bin)"
      ],
      "execution_count": 23,
      "outputs": [
        {
          "output_type": "stream",
          "text": [
            "313/313 [==============================] - 1s 2ms/step - loss: 0.3201 - accuracy: 0.8715\n"
          ],
          "name": "stdout"
        },
        {
          "output_type": "execute_result",
          "data": {
            "text/plain": [
              "[0.3200502097606659, 0.8715000152587891]"
            ]
          },
          "metadata": {
            "tags": []
          },
          "execution_count": 23
        }
      ]
    },
    {
      "cell_type": "code",
      "metadata": {
        "colab": {
          "base_uri": "https://localhost:8080/"
        },
        "id": "Fs58sEeEGR-z",
        "outputId": "d442b491-ea2b-4871-f416-a79597301409"
      },
      "source": [
        "X_new = X_test[:3]\n",
        "\n",
        "y_test[:3], y_test_bin[:3]"
      ],
      "execution_count": 24,
      "outputs": [
        {
          "output_type": "execute_result",
          "data": {
            "text/plain": [
              "(array([7, 2, 1], dtype=uint8), array([1, 0, 0]))"
            ]
          },
          "metadata": {
            "tags": []
          },
          "execution_count": 24
        }
      ]
    },
    {
      "cell_type": "code",
      "metadata": {
        "colab": {
          "base_uri": "https://localhost:8080/"
        },
        "id": "bSTJT6wNGW_y",
        "outputId": "b3085e4d-3b0c-4bcc-d3ea-aaebff38dc31"
      },
      "source": [
        "np.argmax(model_new.predict(X_new), axis=-1)"
      ],
      "execution_count": 26,
      "outputs": [
        {
          "output_type": "execute_result",
          "data": {
            "text/plain": [
              "array([1, 0, 0])"
            ]
          },
          "metadata": {
            "tags": []
          },
          "execution_count": 26
        }
      ]
    },
    {
      "cell_type": "code",
      "metadata": {
        "id": "TAwySuTWGZnh"
      },
      "source": [
        ""
      ],
      "execution_count": null,
      "outputs": []
    }
  ]
}