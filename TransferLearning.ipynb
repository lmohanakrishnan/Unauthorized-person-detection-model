{
  "nbformat": 4,
  "nbformat_minor": 0,
  "metadata": {
    "colab": {
      "name": "TransferLearning.ipynb",
      "provenance": [],
      "collapsed_sections": [],
      "toc_visible": true
    },
    "kernelspec": {
      "name": "python3",
      "display_name": "Python 3"
    },
    "language_info": {
      "name": "python"
    },
    "accelerator": "GPU"
  },
  "cells": [
    {
      "cell_type": "code",
      "metadata": {
        "colab": {
          "base_uri": "https://localhost:8080/"
        },
        "id": "nuvi15eE6OOb",
        "outputId": "0b22f6cb-b7b2-4b4f-d7ca-9415d32af617"
      },
      "source": [
        "from google.colab import drive\n",
        "drive.mount('/content/drive')"
      ],
      "execution_count": 5,
      "outputs": [
        {
          "output_type": "stream",
          "text": [
            "Mounted at /content/drive\n"
          ],
          "name": "stdout"
        }
      ]
    },
    {
      "cell_type": "code",
      "metadata": {
        "id": "cBN6PkuRJZ8U"
      },
      "source": [
        "import os\n",
        "import tensorflow as tf\n",
        "import numpy as np\n",
        "import matplotlib.pyplot as plt\n",
        "import seaborn as sns\n",
        "plt.style.use(\"fivethirtyeight\")\n",
        "%load_ext tensorboard"
      ],
      "execution_count": 1,
      "outputs": []
    },
    {
      "cell_type": "code",
      "metadata": {
        "colab": {
          "base_uri": "https://localhost:8080/"
        },
        "id": "0sp7OPvPMSvA",
        "outputId": "2f5a722a-aa65-4034-a9af-ef958ab9213c"
      },
      "source": [
        "(X_train_full, y_train_full), (X_test, y_test) = tf.keras.datasets.mnist.load_data()\n",
        "X_train_full = X_train_full / 255.0\n",
        "X_test = X_test / 255.0\n",
        "X_valid, X_train = X_train_full[:5000], X_train_full[5000:]\n",
        "y_valid, y_train = y_train_full[:5000], y_train_full[5000:]"
      ],
      "execution_count": 2,
      "outputs": [
        {
          "output_type": "stream",
          "text": [
            "Downloading data from https://storage.googleapis.com/tensorflow/tf-keras-datasets/mnist.npz\n",
            "11493376/11490434 [==============================] - 0s 0us/step\n"
          ],
          "name": "stdout"
        }
      ]
    },
    {
      "cell_type": "code",
      "metadata": {
        "id": "QsKBjQyyNIdS"
      },
      "source": [
        "pretrained_mnist_model = tf.keras.models.load_model(\"/content/drive/MyDrive/pretrained_mnist_model.h5\")"
      ],
      "execution_count": 6,
      "outputs": []
    },
    {
      "cell_type": "code",
      "metadata": {
        "colab": {
          "base_uri": "https://localhost:8080/"
        },
        "id": "E3adGZsmNj4z",
        "outputId": "1fcbafb3-be4a-47bb-917c-300554652b55"
      },
      "source": [
        "pretrained_mnist_model.summary()"
      ],
      "execution_count": 7,
      "outputs": [
        {
          "output_type": "stream",
          "text": [
            "Model: \"sequential\"\n",
            "_________________________________________________________________\n",
            "Layer (type)                 Output Shape              Param #   \n",
            "=================================================================\n",
            "flatten (Flatten)            (None, 784)               0         \n",
            "_________________________________________________________________\n",
            "dense (Dense)                (None, 300)               235500    \n",
            "_________________________________________________________________\n",
            "leaky_re_lu (LeakyReLU)      (None, 300)               0         \n",
            "_________________________________________________________________\n",
            "dense_1 (Dense)              (None, 100)               30100     \n",
            "_________________________________________________________________\n",
            "leaky_re_lu_1 (LeakyReLU)    (None, 100)               0         \n",
            "_________________________________________________________________\n",
            "dense_2 (Dense)              (None, 10)                1010      \n",
            "=================================================================\n",
            "Total params: 266,610\n",
            "Trainable params: 266,610\n",
            "Non-trainable params: 0\n",
            "_________________________________________________________________\n"
          ],
          "name": "stdout"
        }
      ]
    },
    {
      "cell_type": "code",
      "metadata": {
        "colab": {
          "base_uri": "https://localhost:8080/"
        },
        "id": "5l_yRn0aNpMK",
        "outputId": "4276a315-c9af-4695-b5c4-9e4dfdb0bb2c"
      },
      "source": [
        "for layer in pretrained_mnist_model.layers:\n",
        "  print(f\"{layer.name}: {layer.trainable}\")"
      ],
      "execution_count": 8,
      "outputs": [
        {
          "output_type": "stream",
          "text": [
            "flatten: True\n",
            "dense: True\n",
            "leaky_re_lu: True\n",
            "dense_1: True\n",
            "leaky_re_lu_1: True\n",
            "dense_2: True\n"
          ],
          "name": "stdout"
        }
      ]
    },
    {
      "cell_type": "code",
      "metadata": {
        "colab": {
          "base_uri": "https://localhost:8080/"
        },
        "id": "SoKsJVq6Nyot",
        "outputId": "c7c3f526-e1a7-4bbf-8c7e-fb971730f9bc"
      },
      "source": [
        "for layer in pretrained_mnist_model.layers[:-1]:\n",
        "  layer.trainable = False\n",
        "  print(f\"{layer.name}: {layer.trainable}\")"
      ],
      "execution_count": 9,
      "outputs": [
        {
          "output_type": "stream",
          "text": [
            "flatten: False\n",
            "dense: False\n",
            "leaky_re_lu: False\n",
            "dense_1: False\n",
            "leaky_re_lu_1: False\n"
          ],
          "name": "stdout"
        }
      ]
    },
    {
      "cell_type": "code",
      "metadata": {
        "colab": {
          "base_uri": "https://localhost:8080/"
        },
        "id": "siWdRqc-ONP_",
        "outputId": "4a40d5dc-b042-4556-b9a3-03040673e03e"
      },
      "source": [
        "for layer in pretrained_mnist_model.layers:\n",
        "  print(f\"{layer.name}: {layer.trainable}\")"
      ],
      "execution_count": 10,
      "outputs": [
        {
          "output_type": "stream",
          "text": [
            "flatten: False\n",
            "dense: False\n",
            "leaky_re_lu: False\n",
            "dense_1: False\n",
            "leaky_re_lu_1: False\n",
            "dense_2: True\n"
          ],
          "name": "stdout"
        }
      ]
    },
    {
      "cell_type": "code",
      "metadata": {
        "id": "I_tps0VSOVSW"
      },
      "source": [
        "lower_pretrained_layers = pretrained_mnist_model.layers[:-1]\n",
        "\n",
        "new_model = tf.keras.models.Sequential(lower_pretrained_layers)\n",
        "new_model.add(tf.keras.layers.Dense(2, activation=\"softmax\"))"
      ],
      "execution_count": 14,
      "outputs": []
    },
    {
      "cell_type": "code",
      "metadata": {
        "colab": {
          "base_uri": "https://localhost:8080/"
        },
        "id": "w0BSHx0YPGMF",
        "outputId": "9b16f20e-45c4-42cd-9b28-f9799194dee9"
      },
      "source": [
        "new_model.summary()"
      ],
      "execution_count": 15,
      "outputs": [
        {
          "output_type": "stream",
          "text": [
            "Model: \"sequential_3\"\n",
            "_________________________________________________________________\n",
            "Layer (type)                 Output Shape              Param #   \n",
            "=================================================================\n",
            "flatten (Flatten)            (None, 784)               0         \n",
            "_________________________________________________________________\n",
            "dense (Dense)                (None, 300)               235500    \n",
            "_________________________________________________________________\n",
            "leaky_re_lu (LeakyReLU)      (None, 300)               0         \n",
            "_________________________________________________________________\n",
            "dense_1 (Dense)              (None, 100)               30100     \n",
            "_________________________________________________________________\n",
            "leaky_re_lu_1 (LeakyReLU)    (None, 100)               0         \n",
            "_________________________________________________________________\n",
            "dense_2 (Dense)              (None, 2)                 202       \n",
            "=================================================================\n",
            "Total params: 265,802\n",
            "Trainable params: 202\n",
            "Non-trainable params: 265,600\n",
            "_________________________________________________________________\n"
          ],
          "name": "stdout"
        }
      ]
    },
    {
      "cell_type": "code",
      "metadata": {
        "id": "2-KMG_MVSwwQ"
      },
      "source": [
        "def update_even_odd_labels(labels):\n",
        "  for idx, label in enumerate(labels):\n",
        "    labels[idx] = np.where(label % 2 == 0, 1, 0)\n",
        "  return labels"
      ],
      "execution_count": 16,
      "outputs": []
    },
    {
      "cell_type": "code",
      "metadata": {
        "id": "k3sKFryPTDkq"
      },
      "source": [
        "y_train_bin, y_test_bin, y_valid_bin = update_even_odd_labels([y_train, y_test, y_valid])"
      ],
      "execution_count": 17,
      "outputs": []
    },
    {
      "cell_type": "code",
      "metadata": {
        "colab": {
          "base_uri": "https://localhost:8080/"
        },
        "id": "5iapcnTzUVxE",
        "outputId": "1d9f8bbd-f3bf-4487-d79e-588dfa782fa9"
      },
      "source": [
        "new_model.compile(loss=\"sparse_categorical_crossentropy\",\n",
        "              optimizer=tf.keras.optimizers.SGD(lr=1e-3),\n",
        "              metrics=[\"accuracy\"])"
      ],
      "execution_count": 18,
      "outputs": [
        {
          "output_type": "stream",
          "text": [
            "/usr/local/lib/python3.7/dist-packages/tensorflow/python/keras/optimizer_v2/optimizer_v2.py:375: UserWarning: The `lr` argument is deprecated, use `learning_rate` instead.\n",
            "  \"The `lr` argument is deprecated, use `learning_rate` instead.\")\n"
          ],
          "name": "stderr"
        }
      ]
    },
    {
      "cell_type": "code",
      "metadata": {
        "colab": {
          "base_uri": "https://localhost:8080/"
        },
        "id": "YYnZRbOFTfId",
        "outputId": "648da657-8869-4316-e61c-bd56781b5cfd"
      },
      "source": [
        "history = new_model.fit(X_train, y_train_bin, epochs=10,\n",
        "                    validation_data=(X_valid, y_valid_bin), verbose=2)"
      ],
      "execution_count": 19,
      "outputs": [
        {
          "output_type": "stream",
          "text": [
            "Epoch 1/10\n",
            "1719/1719 - 5s - loss: 0.4190 - accuracy: 0.8107 - val_loss: 0.3363 - val_accuracy: 0.8578\n",
            "Epoch 2/10\n",
            "1719/1719 - 2s - loss: 0.3431 - accuracy: 0.8527 - val_loss: 0.3111 - val_accuracy: 0.8702\n",
            "Epoch 3/10\n",
            "1719/1719 - 2s - loss: 0.3251 - accuracy: 0.8606 - val_loss: 0.2990 - val_accuracy: 0.8748\n",
            "Epoch 4/10\n",
            "1719/1719 - 2s - loss: 0.3147 - accuracy: 0.8662 - val_loss: 0.2900 - val_accuracy: 0.8806\n",
            "Epoch 5/10\n",
            "1719/1719 - 2s - loss: 0.3072 - accuracy: 0.8695 - val_loss: 0.2838 - val_accuracy: 0.8842\n",
            "Epoch 6/10\n",
            "1719/1719 - 2s - loss: 0.3013 - accuracy: 0.8718 - val_loss: 0.2786 - val_accuracy: 0.8848\n",
            "Epoch 7/10\n",
            "1719/1719 - 2s - loss: 0.2965 - accuracy: 0.8748 - val_loss: 0.2744 - val_accuracy: 0.8884\n",
            "Epoch 8/10\n",
            "1719/1719 - 2s - loss: 0.2924 - accuracy: 0.8767 - val_loss: 0.2706 - val_accuracy: 0.8900\n",
            "Epoch 9/10\n",
            "1719/1719 - 2s - loss: 0.2890 - accuracy: 0.8784 - val_loss: 0.2673 - val_accuracy: 0.8918\n",
            "Epoch 10/10\n",
            "1719/1719 - 2s - loss: 0.2860 - accuracy: 0.8800 - val_loss: 0.2650 - val_accuracy: 0.8932\n"
          ],
          "name": "stdout"
        }
      ]
    },
    {
      "cell_type": "code",
      "metadata": {
        "colab": {
          "base_uri": "https://localhost:8080/"
        },
        "id": "G-53DViKUS7I",
        "outputId": "59f6061f-4fdc-4ed6-d0c4-4c0f2f4ff09c"
      },
      "source": [
        "new_model.evaluate(X_test, y_test_bin)"
      ],
      "execution_count": 20,
      "outputs": [
        {
          "output_type": "stream",
          "text": [
            "313/313 [==============================] - 1s 2ms/step - loss: 0.2798 - accuracy: 0.8845\n"
          ],
          "name": "stdout"
        },
        {
          "output_type": "execute_result",
          "data": {
            "text/plain": [
              "[0.2797868251800537, 0.8845000267028809]"
            ]
          },
          "metadata": {
            "tags": []
          },
          "execution_count": 20
        }
      ]
    },
    {
      "cell_type": "code",
      "metadata": {
        "colab": {
          "base_uri": "https://localhost:8080/"
        },
        "id": "lwm0psIqWcUG",
        "outputId": "c95e4e5f-b426-43ed-8e62-c22bd6358459"
      },
      "source": [
        "X_new = X_test[:3]\n",
        "\n",
        "y_test[:3], y_test_bin[:3]"
      ],
      "execution_count": 21,
      "outputs": [
        {
          "output_type": "execute_result",
          "data": {
            "text/plain": [
              "(array([7, 2, 1], dtype=uint8), array([0, 1, 0]))"
            ]
          },
          "metadata": {
            "tags": []
          },
          "execution_count": 21
        }
      ]
    },
    {
      "cell_type": "code",
      "metadata": {
        "colab": {
          "base_uri": "https://localhost:8080/"
        },
        "id": "Odx0FhqKWnot",
        "outputId": "9006021a-27a9-4eed-b907-d72b1ae9b987"
      },
      "source": [
        "np.argmax(new_model.predict(X_new), axis=-1)"
      ],
      "execution_count": 22,
      "outputs": [
        {
          "output_type": "execute_result",
          "data": {
            "text/plain": [
              "array([0, 1, 0])"
            ]
          },
          "metadata": {
            "tags": []
          },
          "execution_count": 22
        }
      ]
    },
    {
      "cell_type": "code",
      "metadata": {
        "id": "5GCNyb8vW1AN"
      },
      "source": [
        "new_model.save(\"/content/drive/MyDrive/mnist_model_odd_even.h5\")"
      ],
      "execution_count": 23,
      "outputs": []
    },
    {
      "cell_type": "code",
      "metadata": {
        "id": "5YYHvnwC74MR"
      },
      "source": [
        ""
      ],
      "execution_count": null,
      "outputs": []
    }
  ]
}